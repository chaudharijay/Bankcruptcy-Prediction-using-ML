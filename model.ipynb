{
 "cells": [
  {
   "cell_type": "code",
   "execution_count": 1,
   "metadata": {},
   "outputs": [],
   "source": [
    "import pandas as pd\n",
    "import seaborn as sns\n",
    "import matplotlib.pyplot as plt"
   ]
  },
  {
   "cell_type": "code",
   "execution_count": null,
   "metadata": {},
   "outputs": [],
   "source": []
  },
  {
   "cell_type": "markdown",
   "metadata": {},
   "source": [
    "Load the dataset first"
   ]
  },
  {
   "cell_type": "code",
   "execution_count": 2,
   "metadata": {},
   "outputs": [
    {
     "data": {
      "text/html": [
       "<div>\n",
       "<style scoped>\n",
       "    .dataframe tbody tr th:only-of-type {\n",
       "        vertical-align: middle;\n",
       "    }\n",
       "\n",
       "    .dataframe tbody tr th {\n",
       "        vertical-align: top;\n",
       "    }\n",
       "\n",
       "    .dataframe thead th {\n",
       "        text-align: right;\n",
       "    }\n",
       "</style>\n",
       "<table border=\"1\" class=\"dataframe\">\n",
       "  <thead>\n",
       "    <tr style=\"text-align: right;\">\n",
       "      <th></th>\n",
       "      <th>industrial_risk</th>\n",
       "      <th>management_risk</th>\n",
       "      <th>financial_flexibility</th>\n",
       "      <th>credibility</th>\n",
       "      <th>competitiveness</th>\n",
       "      <th>operating_risk</th>\n",
       "      <th>class</th>\n",
       "    </tr>\n",
       "  </thead>\n",
       "  <tbody>\n",
       "    <tr>\n",
       "      <th>0</th>\n",
       "      <td>0.5</td>\n",
       "      <td>1.0</td>\n",
       "      <td>0.0</td>\n",
       "      <td>0.0</td>\n",
       "      <td>0.0</td>\n",
       "      <td>0.5</td>\n",
       "      <td>bankruptcy</td>\n",
       "    </tr>\n",
       "    <tr>\n",
       "      <th>1</th>\n",
       "      <td>0.0</td>\n",
       "      <td>1.0</td>\n",
       "      <td>0.0</td>\n",
       "      <td>0.0</td>\n",
       "      <td>0.0</td>\n",
       "      <td>1.0</td>\n",
       "      <td>bankruptcy</td>\n",
       "    </tr>\n",
       "    <tr>\n",
       "      <th>2</th>\n",
       "      <td>1.0</td>\n",
       "      <td>0.0</td>\n",
       "      <td>0.0</td>\n",
       "      <td>0.0</td>\n",
       "      <td>0.0</td>\n",
       "      <td>1.0</td>\n",
       "      <td>bankruptcy</td>\n",
       "    </tr>\n",
       "    <tr>\n",
       "      <th>3</th>\n",
       "      <td>0.5</td>\n",
       "      <td>0.0</td>\n",
       "      <td>0.0</td>\n",
       "      <td>0.5</td>\n",
       "      <td>0.0</td>\n",
       "      <td>1.0</td>\n",
       "      <td>bankruptcy</td>\n",
       "    </tr>\n",
       "    <tr>\n",
       "      <th>4</th>\n",
       "      <td>1.0</td>\n",
       "      <td>1.0</td>\n",
       "      <td>0.0</td>\n",
       "      <td>0.0</td>\n",
       "      <td>0.0</td>\n",
       "      <td>1.0</td>\n",
       "      <td>bankruptcy</td>\n",
       "    </tr>\n",
       "    <tr>\n",
       "      <th>...</th>\n",
       "      <td>...</td>\n",
       "      <td>...</td>\n",
       "      <td>...</td>\n",
       "      <td>...</td>\n",
       "      <td>...</td>\n",
       "      <td>...</td>\n",
       "      <td>...</td>\n",
       "    </tr>\n",
       "    <tr>\n",
       "      <th>245</th>\n",
       "      <td>0.0</td>\n",
       "      <td>1.0</td>\n",
       "      <td>1.0</td>\n",
       "      <td>1.0</td>\n",
       "      <td>1.0</td>\n",
       "      <td>1.0</td>\n",
       "      <td>non-bankruptcy</td>\n",
       "    </tr>\n",
       "    <tr>\n",
       "      <th>246</th>\n",
       "      <td>1.0</td>\n",
       "      <td>1.0</td>\n",
       "      <td>0.5</td>\n",
       "      <td>1.0</td>\n",
       "      <td>1.0</td>\n",
       "      <td>0.0</td>\n",
       "      <td>non-bankruptcy</td>\n",
       "    </tr>\n",
       "    <tr>\n",
       "      <th>247</th>\n",
       "      <td>0.0</td>\n",
       "      <td>1.0</td>\n",
       "      <td>1.0</td>\n",
       "      <td>0.5</td>\n",
       "      <td>0.5</td>\n",
       "      <td>0.0</td>\n",
       "      <td>non-bankruptcy</td>\n",
       "    </tr>\n",
       "    <tr>\n",
       "      <th>248</th>\n",
       "      <td>1.0</td>\n",
       "      <td>0.0</td>\n",
       "      <td>0.5</td>\n",
       "      <td>1.0</td>\n",
       "      <td>0.5</td>\n",
       "      <td>0.0</td>\n",
       "      <td>non-bankruptcy</td>\n",
       "    </tr>\n",
       "    <tr>\n",
       "      <th>249</th>\n",
       "      <td>1.0</td>\n",
       "      <td>0.0</td>\n",
       "      <td>0.5</td>\n",
       "      <td>0.5</td>\n",
       "      <td>1.0</td>\n",
       "      <td>1.0</td>\n",
       "      <td>non-bankruptcy</td>\n",
       "    </tr>\n",
       "  </tbody>\n",
       "</table>\n",
       "<p>250 rows × 7 columns</p>\n",
       "</div>"
      ],
      "text/plain": [
       "     industrial_risk  management_risk  financial_flexibility  credibility  \\\n",
       "0                0.5              1.0                    0.0          0.0   \n",
       "1                0.0              1.0                    0.0          0.0   \n",
       "2                1.0              0.0                    0.0          0.0   \n",
       "3                0.5              0.0                    0.0          0.5   \n",
       "4                1.0              1.0                    0.0          0.0   \n",
       "..               ...              ...                    ...          ...   \n",
       "245              0.0              1.0                    1.0          1.0   \n",
       "246              1.0              1.0                    0.5          1.0   \n",
       "247              0.0              1.0                    1.0          0.5   \n",
       "248              1.0              0.0                    0.5          1.0   \n",
       "249              1.0              0.0                    0.5          0.5   \n",
       "\n",
       "     competitiveness  operating_risk           class  \n",
       "0                0.0             0.5      bankruptcy  \n",
       "1                0.0             1.0      bankruptcy  \n",
       "2                0.0             1.0      bankruptcy  \n",
       "3                0.0             1.0      bankruptcy  \n",
       "4                0.0             1.0      bankruptcy  \n",
       "..               ...             ...             ...  \n",
       "245              1.0             1.0  non-bankruptcy  \n",
       "246              1.0             0.0  non-bankruptcy  \n",
       "247              0.5             0.0  non-bankruptcy  \n",
       "248              0.5             0.0  non-bankruptcy  \n",
       "249              1.0             1.0  non-bankruptcy  \n",
       "\n",
       "[250 rows x 7 columns]"
      ]
     },
     "execution_count": 2,
     "metadata": {},
     "output_type": "execute_result"
    }
   ],
   "source": [
    "df  = pd.read_excel(\"Bankruptcy (2).xlsx\")\n",
    "df"
   ]
  },
  {
   "cell_type": "markdown",
   "metadata": {},
   "source": [
    "## EDA - "
   ]
  },
  {
   "cell_type": "code",
   "execution_count": 3,
   "metadata": {},
   "outputs": [
    {
     "data": {
      "text/html": [
       "<div>\n",
       "<style scoped>\n",
       "    .dataframe tbody tr th:only-of-type {\n",
       "        vertical-align: middle;\n",
       "    }\n",
       "\n",
       "    .dataframe tbody tr th {\n",
       "        vertical-align: top;\n",
       "    }\n",
       "\n",
       "    .dataframe thead th {\n",
       "        text-align: right;\n",
       "    }\n",
       "</style>\n",
       "<table border=\"1\" class=\"dataframe\">\n",
       "  <thead>\n",
       "    <tr style=\"text-align: right;\">\n",
       "      <th></th>\n",
       "      <th>industrial_risk</th>\n",
       "      <th>management_risk</th>\n",
       "      <th>financial_flexibility</th>\n",
       "      <th>credibility</th>\n",
       "      <th>competitiveness</th>\n",
       "      <th>operating_risk</th>\n",
       "      <th>class</th>\n",
       "    </tr>\n",
       "  </thead>\n",
       "  <tbody>\n",
       "    <tr>\n",
       "      <th>0</th>\n",
       "      <td>0.5</td>\n",
       "      <td>1.0</td>\n",
       "      <td>0.0</td>\n",
       "      <td>0.0</td>\n",
       "      <td>0.0</td>\n",
       "      <td>0.5</td>\n",
       "      <td>bankruptcy</td>\n",
       "    </tr>\n",
       "    <tr>\n",
       "      <th>1</th>\n",
       "      <td>0.0</td>\n",
       "      <td>1.0</td>\n",
       "      <td>0.0</td>\n",
       "      <td>0.0</td>\n",
       "      <td>0.0</td>\n",
       "      <td>1.0</td>\n",
       "      <td>bankruptcy</td>\n",
       "    </tr>\n",
       "    <tr>\n",
       "      <th>2</th>\n",
       "      <td>1.0</td>\n",
       "      <td>0.0</td>\n",
       "      <td>0.0</td>\n",
       "      <td>0.0</td>\n",
       "      <td>0.0</td>\n",
       "      <td>1.0</td>\n",
       "      <td>bankruptcy</td>\n",
       "    </tr>\n",
       "    <tr>\n",
       "      <th>3</th>\n",
       "      <td>0.5</td>\n",
       "      <td>0.0</td>\n",
       "      <td>0.0</td>\n",
       "      <td>0.5</td>\n",
       "      <td>0.0</td>\n",
       "      <td>1.0</td>\n",
       "      <td>bankruptcy</td>\n",
       "    </tr>\n",
       "    <tr>\n",
       "      <th>4</th>\n",
       "      <td>1.0</td>\n",
       "      <td>1.0</td>\n",
       "      <td>0.0</td>\n",
       "      <td>0.0</td>\n",
       "      <td>0.0</td>\n",
       "      <td>1.0</td>\n",
       "      <td>bankruptcy</td>\n",
       "    </tr>\n",
       "    <tr>\n",
       "      <th>...</th>\n",
       "      <td>...</td>\n",
       "      <td>...</td>\n",
       "      <td>...</td>\n",
       "      <td>...</td>\n",
       "      <td>...</td>\n",
       "      <td>...</td>\n",
       "      <td>...</td>\n",
       "    </tr>\n",
       "    <tr>\n",
       "      <th>245</th>\n",
       "      <td>0.0</td>\n",
       "      <td>1.0</td>\n",
       "      <td>1.0</td>\n",
       "      <td>1.0</td>\n",
       "      <td>1.0</td>\n",
       "      <td>1.0</td>\n",
       "      <td>non-bankruptcy</td>\n",
       "    </tr>\n",
       "    <tr>\n",
       "      <th>246</th>\n",
       "      <td>1.0</td>\n",
       "      <td>1.0</td>\n",
       "      <td>0.5</td>\n",
       "      <td>1.0</td>\n",
       "      <td>1.0</td>\n",
       "      <td>0.0</td>\n",
       "      <td>non-bankruptcy</td>\n",
       "    </tr>\n",
       "    <tr>\n",
       "      <th>247</th>\n",
       "      <td>0.0</td>\n",
       "      <td>1.0</td>\n",
       "      <td>1.0</td>\n",
       "      <td>0.5</td>\n",
       "      <td>0.5</td>\n",
       "      <td>0.0</td>\n",
       "      <td>non-bankruptcy</td>\n",
       "    </tr>\n",
       "    <tr>\n",
       "      <th>248</th>\n",
       "      <td>1.0</td>\n",
       "      <td>0.0</td>\n",
       "      <td>0.5</td>\n",
       "      <td>1.0</td>\n",
       "      <td>0.5</td>\n",
       "      <td>0.0</td>\n",
       "      <td>non-bankruptcy</td>\n",
       "    </tr>\n",
       "    <tr>\n",
       "      <th>249</th>\n",
       "      <td>1.0</td>\n",
       "      <td>0.0</td>\n",
       "      <td>0.5</td>\n",
       "      <td>0.5</td>\n",
       "      <td>1.0</td>\n",
       "      <td>1.0</td>\n",
       "      <td>non-bankruptcy</td>\n",
       "    </tr>\n",
       "  </tbody>\n",
       "</table>\n",
       "<p>250 rows × 7 columns</p>\n",
       "</div>"
      ],
      "text/plain": [
       "     industrial_risk  management_risk  financial_flexibility  credibility  \\\n",
       "0                0.5              1.0                    0.0          0.0   \n",
       "1                0.0              1.0                    0.0          0.0   \n",
       "2                1.0              0.0                    0.0          0.0   \n",
       "3                0.5              0.0                    0.0          0.5   \n",
       "4                1.0              1.0                    0.0          0.0   \n",
       "..               ...              ...                    ...          ...   \n",
       "245              0.0              1.0                    1.0          1.0   \n",
       "246              1.0              1.0                    0.5          1.0   \n",
       "247              0.0              1.0                    1.0          0.5   \n",
       "248              1.0              0.0                    0.5          1.0   \n",
       "249              1.0              0.0                    0.5          0.5   \n",
       "\n",
       "     competitiveness  operating_risk           class  \n",
       "0                0.0             0.5      bankruptcy  \n",
       "1                0.0             1.0      bankruptcy  \n",
       "2                0.0             1.0      bankruptcy  \n",
       "3                0.0             1.0      bankruptcy  \n",
       "4                0.0             1.0      bankruptcy  \n",
       "..               ...             ...             ...  \n",
       "245              1.0             1.0  non-bankruptcy  \n",
       "246              1.0             0.0  non-bankruptcy  \n",
       "247              0.5             0.0  non-bankruptcy  \n",
       "248              0.5             0.0  non-bankruptcy  \n",
       "249              1.0             1.0  non-bankruptcy  \n",
       "\n",
       "[250 rows x 7 columns]"
      ]
     },
     "execution_count": 3,
     "metadata": {},
     "output_type": "execute_result"
    }
   ],
   "source": [
    "df"
   ]
  },
  {
   "cell_type": "code",
   "execution_count": 4,
   "metadata": {},
   "outputs": [
    {
     "data": {
      "text/plain": [
       "industrial_risk          0\n",
       "management_risk          0\n",
       "financial_flexibility    0\n",
       "credibility              0\n",
       "competitiveness          0\n",
       "operating_risk           0\n",
       "class                    0\n",
       "dtype: int64"
      ]
     },
     "execution_count": 4,
     "metadata": {},
     "output_type": "execute_result"
    }
   ],
   "source": [
    "# check for null values\n",
    "df.isna().sum()"
   ]
  },
  {
   "cell_type": "code",
   "execution_count": 5,
   "metadata": {},
   "outputs": [
    {
     "name": "stdout",
     "output_type": "stream",
     "text": [
      "<class 'pandas.core.frame.DataFrame'>\n",
      "RangeIndex: 250 entries, 0 to 249\n",
      "Data columns (total 7 columns):\n",
      " #   Column                 Non-Null Count  Dtype  \n",
      "---  ------                 --------------  -----  \n",
      " 0   industrial_risk        250 non-null    float64\n",
      " 1   management_risk        250 non-null    float64\n",
      " 2   financial_flexibility  250 non-null    float64\n",
      " 3   credibility            250 non-null    float64\n",
      " 4   competitiveness        250 non-null    float64\n",
      " 5   operating_risk         250 non-null    float64\n",
      " 6   class                  250 non-null    object \n",
      "dtypes: float64(6), object(1)\n",
      "memory usage: 13.8+ KB\n"
     ]
    }
   ],
   "source": [
    "df.info()"
   ]
  },
  {
   "cell_type": "code",
   "execution_count": 6,
   "metadata": {},
   "outputs": [
    {
     "data": {
      "text/html": [
       "<div>\n",
       "<style scoped>\n",
       "    .dataframe tbody tr th:only-of-type {\n",
       "        vertical-align: middle;\n",
       "    }\n",
       "\n",
       "    .dataframe tbody tr th {\n",
       "        vertical-align: top;\n",
       "    }\n",
       "\n",
       "    .dataframe thead th {\n",
       "        text-align: right;\n",
       "    }\n",
       "</style>\n",
       "<table border=\"1\" class=\"dataframe\">\n",
       "  <thead>\n",
       "    <tr style=\"text-align: right;\">\n",
       "      <th></th>\n",
       "      <th>industrial_risk</th>\n",
       "      <th>management_risk</th>\n",
       "      <th>financial_flexibility</th>\n",
       "      <th>credibility</th>\n",
       "      <th>competitiveness</th>\n",
       "      <th>operating_risk</th>\n",
       "    </tr>\n",
       "  </thead>\n",
       "  <tbody>\n",
       "    <tr>\n",
       "      <th>count</th>\n",
       "      <td>250.000000</td>\n",
       "      <td>250.000000</td>\n",
       "      <td>250.000000</td>\n",
       "      <td>250.000000</td>\n",
       "      <td>250.000000</td>\n",
       "      <td>250.000000</td>\n",
       "    </tr>\n",
       "    <tr>\n",
       "      <th>mean</th>\n",
       "      <td>0.518000</td>\n",
       "      <td>0.614000</td>\n",
       "      <td>0.376000</td>\n",
       "      <td>0.470000</td>\n",
       "      <td>0.476000</td>\n",
       "      <td>0.570000</td>\n",
       "    </tr>\n",
       "    <tr>\n",
       "      <th>std</th>\n",
       "      <td>0.411526</td>\n",
       "      <td>0.410705</td>\n",
       "      <td>0.401583</td>\n",
       "      <td>0.415682</td>\n",
       "      <td>0.440682</td>\n",
       "      <td>0.434575</td>\n",
       "    </tr>\n",
       "    <tr>\n",
       "      <th>min</th>\n",
       "      <td>0.000000</td>\n",
       "      <td>0.000000</td>\n",
       "      <td>0.000000</td>\n",
       "      <td>0.000000</td>\n",
       "      <td>0.000000</td>\n",
       "      <td>0.000000</td>\n",
       "    </tr>\n",
       "    <tr>\n",
       "      <th>25%</th>\n",
       "      <td>0.000000</td>\n",
       "      <td>0.500000</td>\n",
       "      <td>0.000000</td>\n",
       "      <td>0.000000</td>\n",
       "      <td>0.000000</td>\n",
       "      <td>0.000000</td>\n",
       "    </tr>\n",
       "    <tr>\n",
       "      <th>50%</th>\n",
       "      <td>0.500000</td>\n",
       "      <td>0.500000</td>\n",
       "      <td>0.500000</td>\n",
       "      <td>0.500000</td>\n",
       "      <td>0.500000</td>\n",
       "      <td>0.500000</td>\n",
       "    </tr>\n",
       "    <tr>\n",
       "      <th>75%</th>\n",
       "      <td>1.000000</td>\n",
       "      <td>1.000000</td>\n",
       "      <td>0.500000</td>\n",
       "      <td>1.000000</td>\n",
       "      <td>1.000000</td>\n",
       "      <td>1.000000</td>\n",
       "    </tr>\n",
       "    <tr>\n",
       "      <th>max</th>\n",
       "      <td>1.000000</td>\n",
       "      <td>1.000000</td>\n",
       "      <td>1.000000</td>\n",
       "      <td>1.000000</td>\n",
       "      <td>1.000000</td>\n",
       "      <td>1.000000</td>\n",
       "    </tr>\n",
       "  </tbody>\n",
       "</table>\n",
       "</div>"
      ],
      "text/plain": [
       "       industrial_risk  management_risk  financial_flexibility  credibility  \\\n",
       "count       250.000000       250.000000             250.000000   250.000000   \n",
       "mean          0.518000         0.614000               0.376000     0.470000   \n",
       "std           0.411526         0.410705               0.401583     0.415682   \n",
       "min           0.000000         0.000000               0.000000     0.000000   \n",
       "25%           0.000000         0.500000               0.000000     0.000000   \n",
       "50%           0.500000         0.500000               0.500000     0.500000   \n",
       "75%           1.000000         1.000000               0.500000     1.000000   \n",
       "max           1.000000         1.000000               1.000000     1.000000   \n",
       "\n",
       "       competitiveness  operating_risk  \n",
       "count       250.000000      250.000000  \n",
       "mean          0.476000        0.570000  \n",
       "std           0.440682        0.434575  \n",
       "min           0.000000        0.000000  \n",
       "25%           0.000000        0.000000  \n",
       "50%           0.500000        0.500000  \n",
       "75%           1.000000        1.000000  \n",
       "max           1.000000        1.000000  "
      ]
     },
     "execution_count": 6,
     "metadata": {},
     "output_type": "execute_result"
    }
   ],
   "source": [
    "df.describe()"
   ]
  },
  {
   "cell_type": "code",
   "execution_count": 7,
   "metadata": {},
   "outputs": [],
   "source": [
    "from sklearn.preprocessing import LabelEncoder\n",
    "le = LabelEncoder()\n",
    "\n",
    "df['class'] = le.fit_transform(df['class'])"
   ]
  },
  {
   "cell_type": "code",
   "execution_count": 8,
   "metadata": {},
   "outputs": [
    {
     "data": {
      "text/html": [
       "<div>\n",
       "<style scoped>\n",
       "    .dataframe tbody tr th:only-of-type {\n",
       "        vertical-align: middle;\n",
       "    }\n",
       "\n",
       "    .dataframe tbody tr th {\n",
       "        vertical-align: top;\n",
       "    }\n",
       "\n",
       "    .dataframe thead th {\n",
       "        text-align: right;\n",
       "    }\n",
       "</style>\n",
       "<table border=\"1\" class=\"dataframe\">\n",
       "  <thead>\n",
       "    <tr style=\"text-align: right;\">\n",
       "      <th></th>\n",
       "      <th>industrial_risk</th>\n",
       "      <th>management_risk</th>\n",
       "      <th>financial_flexibility</th>\n",
       "      <th>credibility</th>\n",
       "      <th>competitiveness</th>\n",
       "      <th>operating_risk</th>\n",
       "      <th>class</th>\n",
       "    </tr>\n",
       "  </thead>\n",
       "  <tbody>\n",
       "    <tr>\n",
       "      <th>0</th>\n",
       "      <td>0.5</td>\n",
       "      <td>1.0</td>\n",
       "      <td>0.0</td>\n",
       "      <td>0.0</td>\n",
       "      <td>0.0</td>\n",
       "      <td>0.5</td>\n",
       "      <td>0</td>\n",
       "    </tr>\n",
       "    <tr>\n",
       "      <th>1</th>\n",
       "      <td>0.0</td>\n",
       "      <td>1.0</td>\n",
       "      <td>0.0</td>\n",
       "      <td>0.0</td>\n",
       "      <td>0.0</td>\n",
       "      <td>1.0</td>\n",
       "      <td>0</td>\n",
       "    </tr>\n",
       "    <tr>\n",
       "      <th>2</th>\n",
       "      <td>1.0</td>\n",
       "      <td>0.0</td>\n",
       "      <td>0.0</td>\n",
       "      <td>0.0</td>\n",
       "      <td>0.0</td>\n",
       "      <td>1.0</td>\n",
       "      <td>0</td>\n",
       "    </tr>\n",
       "    <tr>\n",
       "      <th>3</th>\n",
       "      <td>0.5</td>\n",
       "      <td>0.0</td>\n",
       "      <td>0.0</td>\n",
       "      <td>0.5</td>\n",
       "      <td>0.0</td>\n",
       "      <td>1.0</td>\n",
       "      <td>0</td>\n",
       "    </tr>\n",
       "    <tr>\n",
       "      <th>4</th>\n",
       "      <td>1.0</td>\n",
       "      <td>1.0</td>\n",
       "      <td>0.0</td>\n",
       "      <td>0.0</td>\n",
       "      <td>0.0</td>\n",
       "      <td>1.0</td>\n",
       "      <td>0</td>\n",
       "    </tr>\n",
       "    <tr>\n",
       "      <th>...</th>\n",
       "      <td>...</td>\n",
       "      <td>...</td>\n",
       "      <td>...</td>\n",
       "      <td>...</td>\n",
       "      <td>...</td>\n",
       "      <td>...</td>\n",
       "      <td>...</td>\n",
       "    </tr>\n",
       "    <tr>\n",
       "      <th>245</th>\n",
       "      <td>0.0</td>\n",
       "      <td>1.0</td>\n",
       "      <td>1.0</td>\n",
       "      <td>1.0</td>\n",
       "      <td>1.0</td>\n",
       "      <td>1.0</td>\n",
       "      <td>1</td>\n",
       "    </tr>\n",
       "    <tr>\n",
       "      <th>246</th>\n",
       "      <td>1.0</td>\n",
       "      <td>1.0</td>\n",
       "      <td>0.5</td>\n",
       "      <td>1.0</td>\n",
       "      <td>1.0</td>\n",
       "      <td>0.0</td>\n",
       "      <td>1</td>\n",
       "    </tr>\n",
       "    <tr>\n",
       "      <th>247</th>\n",
       "      <td>0.0</td>\n",
       "      <td>1.0</td>\n",
       "      <td>1.0</td>\n",
       "      <td>0.5</td>\n",
       "      <td>0.5</td>\n",
       "      <td>0.0</td>\n",
       "      <td>1</td>\n",
       "    </tr>\n",
       "    <tr>\n",
       "      <th>248</th>\n",
       "      <td>1.0</td>\n",
       "      <td>0.0</td>\n",
       "      <td>0.5</td>\n",
       "      <td>1.0</td>\n",
       "      <td>0.5</td>\n",
       "      <td>0.0</td>\n",
       "      <td>1</td>\n",
       "    </tr>\n",
       "    <tr>\n",
       "      <th>249</th>\n",
       "      <td>1.0</td>\n",
       "      <td>0.0</td>\n",
       "      <td>0.5</td>\n",
       "      <td>0.5</td>\n",
       "      <td>1.0</td>\n",
       "      <td>1.0</td>\n",
       "      <td>1</td>\n",
       "    </tr>\n",
       "  </tbody>\n",
       "</table>\n",
       "<p>250 rows × 7 columns</p>\n",
       "</div>"
      ],
      "text/plain": [
       "     industrial_risk  management_risk  financial_flexibility  credibility  \\\n",
       "0                0.5              1.0                    0.0          0.0   \n",
       "1                0.0              1.0                    0.0          0.0   \n",
       "2                1.0              0.0                    0.0          0.0   \n",
       "3                0.5              0.0                    0.0          0.5   \n",
       "4                1.0              1.0                    0.0          0.0   \n",
       "..               ...              ...                    ...          ...   \n",
       "245              0.0              1.0                    1.0          1.0   \n",
       "246              1.0              1.0                    0.5          1.0   \n",
       "247              0.0              1.0                    1.0          0.5   \n",
       "248              1.0              0.0                    0.5          1.0   \n",
       "249              1.0              0.0                    0.5          0.5   \n",
       "\n",
       "     competitiveness  operating_risk  class  \n",
       "0                0.0             0.5      0  \n",
       "1                0.0             1.0      0  \n",
       "2                0.0             1.0      0  \n",
       "3                0.0             1.0      0  \n",
       "4                0.0             1.0      0  \n",
       "..               ...             ...    ...  \n",
       "245              1.0             1.0      1  \n",
       "246              1.0             0.0      1  \n",
       "247              0.5             0.0      1  \n",
       "248              0.5             0.0      1  \n",
       "249              1.0             1.0      1  \n",
       "\n",
       "[250 rows x 7 columns]"
      ]
     },
     "execution_count": 8,
     "metadata": {},
     "output_type": "execute_result"
    }
   ],
   "source": [
    "df"
   ]
  },
  {
   "cell_type": "code",
   "execution_count": 9,
   "metadata": {},
   "outputs": [
    {
     "data": {
      "text/plain": [
       "industrial_risk\n",
       "0.0    0.675000\n",
       "0.5    0.654321\n",
       "1.0    0.404494\n",
       "Name: class, dtype: float64"
      ]
     },
     "execution_count": 9,
     "metadata": {},
     "output_type": "execute_result"
    }
   ],
   "source": [
    "avg_industrial_risk_by_bankcruptcy = df.groupby(\"industrial_risk\")['class'].mean()\n",
    "avg_industrial_risk_by_bankcruptcy"
   ]
  },
  {
   "cell_type": "code",
   "execution_count": 10,
   "metadata": {},
   "outputs": [
    {
     "data": {
      "text/plain": [
       "Text(0.5, 1.0, 'Bankruptcy by Avg Industrial Risk')"
      ]
     },
     "execution_count": 10,
     "metadata": {},
     "output_type": "execute_result"
    },
    {
     "data": {
      "image/png": "[encoded data removed]",
      "text/plain": [
       "<Figure size 640x480 with 1 Axes>"
      ]
     },
     "metadata": {},
     "output_type": "display_data"
    }
   ],
   "source": [
    "plt.pie(avg_industrial_risk_by_bankcruptcy, labels=avg_industrial_risk_by_bankcruptcy.index, autopct=\"%1.1f%%\", startangle=90)\n",
    "plt.title(\"Bankruptcy by Avg Industrial Risk\")"
   ]
  },
  {
   "cell_type": "code",
   "execution_count": 11,
   "metadata": {},
   "outputs": [
    {
     "data": {
      "text/plain": [
       "financial_flexibility\n",
       "0.0    0.142857\n",
       "0.5    0.945946\n",
       "1.0    0.982456\n",
       "Name: class, dtype: float64"
      ]
     },
     "execution_count": 11,
     "metadata": {},
     "output_type": "execute_result"
    }
   ],
   "source": [
    "fin_flex_by_class = df.groupby('financial_flexibility')['class'].mean()\n",
    "fin_flex_by_class"
   ]
  },
  {
   "cell_type": "code",
   "execution_count": 12,
   "metadata": {},
   "outputs": [
    {
     "data": {
      "text/plain": [
       "Text(0, 0.5, 'Financial Flexiblity')"
      ]
     },
     "execution_count": 12,
     "metadata": {},
     "output_type": "execute_result"
    },
    {
     "data": {
      "image/png": "[encoded data removed]",
      "text/plain": [
       "<Figure size 640x480 with 1 Axes>"
      ]
     },
     "metadata": {},
     "output_type": "display_data"
    }
   ],
   "source": [
    "fin_flex_by_class.plot(kind=\"bar\")\n",
    "plt.title(\"Financial Flexibility by Class\")\n",
    "plt.xlabel(\"Class (Bankrupt 0<-->1)\")\n",
    "plt.ylabel(\"Financial Flexiblity\")\n"
   ]
  },
  {
   "cell_type": "code",
   "execution_count": 13,
   "metadata": {},
   "outputs": [
    {
     "data": {
      "text/plain": [
       "Text(0.5, 1.0, 'Operational Risk by Class')"
      ]
     },
     "execution_count": 13,
     "metadata": {},
     "output_type": "execute_result"
    },
    {
     "data": {
      "image/png": "[encoded data removed]",
      "text/plain": [
       "<Figure size 640x480 with 1 Axes>"
      ]
     },
     "metadata": {},
     "output_type": "display_data"
    }
   ],
   "source": [
    "oper_risk_by_class = df.groupby('operating_risk')['class'].mean()\n",
    "plt.pie(oper_risk_by_class, labels=['0.0 bank', '0.5 Bank', '1 Bank'],autopct=\"%1.1f%%\" )\n",
    "plt.title(\"Operational Risk by Class\")"
   ]
  },
  {
   "cell_type": "markdown",
   "metadata": {},
   "source": [
    "## Preprocessing"
   ]
  },
  {
   "cell_type": "markdown",
   "metadata": {},
   "source": [
    "preprocessing steps - \n",
    "\n",
    "- variable encoding\n",
    "- scaling\n",
    "- correlations"
   ]
  },
  {
   "cell_type": "code",
   "execution_count": 14,
   "metadata": {},
   "outputs": [
    {
     "data": {
      "text/html": [
       "<div>\n",
       "<style scoped>\n",
       "    .dataframe tbody tr th:only-of-type {\n",
       "        vertical-align: middle;\n",
       "    }\n",
       "\n",
       "    .dataframe tbody tr th {\n",
       "        vertical-align: top;\n",
       "    }\n",
       "\n",
       "    .dataframe thead th {\n",
       "        text-align: right;\n",
       "    }\n",
       "</style>\n",
       "<table border=\"1\" class=\"dataframe\">\n",
       "  <thead>\n",
       "    <tr style=\"text-align: right;\">\n",
       "      <th></th>\n",
       "      <th>industrial_risk</th>\n",
       "      <th>management_risk</th>\n",
       "      <th>financial_flexibility</th>\n",
       "      <th>credibility</th>\n",
       "      <th>competitiveness</th>\n",
       "      <th>operating_risk</th>\n",
       "      <th>class</th>\n",
       "    </tr>\n",
       "  </thead>\n",
       "  <tbody>\n",
       "    <tr>\n",
       "      <th>count</th>\n",
       "      <td>250.000000</td>\n",
       "      <td>250.000000</td>\n",
       "      <td>250.000000</td>\n",
       "      <td>250.000000</td>\n",
       "      <td>250.000000</td>\n",
       "      <td>250.000000</td>\n",
       "      <td>250.000000</td>\n",
       "    </tr>\n",
       "    <tr>\n",
       "      <th>mean</th>\n",
       "      <td>0.518000</td>\n",
       "      <td>0.614000</td>\n",
       "      <td>0.376000</td>\n",
       "      <td>0.470000</td>\n",
       "      <td>0.476000</td>\n",
       "      <td>0.570000</td>\n",
       "      <td>0.572000</td>\n",
       "    </tr>\n",
       "    <tr>\n",
       "      <th>std</th>\n",
       "      <td>0.411526</td>\n",
       "      <td>0.410705</td>\n",
       "      <td>0.401583</td>\n",
       "      <td>0.415682</td>\n",
       "      <td>0.440682</td>\n",
       "      <td>0.434575</td>\n",
       "      <td>0.495781</td>\n",
       "    </tr>\n",
       "    <tr>\n",
       "      <th>min</th>\n",
       "      <td>0.000000</td>\n",
       "      <td>0.000000</td>\n",
       "      <td>0.000000</td>\n",
       "      <td>0.000000</td>\n",
       "      <td>0.000000</td>\n",
       "      <td>0.000000</td>\n",
       "      <td>0.000000</td>\n",
       "    </tr>\n",
       "    <tr>\n",
       "      <th>25%</th>\n",
       "      <td>0.000000</td>\n",
       "      <td>0.500000</td>\n",
       "      <td>0.000000</td>\n",
       "      <td>0.000000</td>\n",
       "      <td>0.000000</td>\n",
       "      <td>0.000000</td>\n",
       "      <td>0.000000</td>\n",
       "    </tr>\n",
       "    <tr>\n",
       "      <th>50%</th>\n",
       "      <td>0.500000</td>\n",
       "      <td>0.500000</td>\n",
       "      <td>0.500000</td>\n",
       "      <td>0.500000</td>\n",
       "      <td>0.500000</td>\n",
       "      <td>0.500000</td>\n",
       "      <td>1.000000</td>\n",
       "    </tr>\n",
       "    <tr>\n",
       "      <th>75%</th>\n",
       "      <td>1.000000</td>\n",
       "      <td>1.000000</td>\n",
       "      <td>0.500000</td>\n",
       "      <td>1.000000</td>\n",
       "      <td>1.000000</td>\n",
       "      <td>1.000000</td>\n",
       "      <td>1.000000</td>\n",
       "    </tr>\n",
       "    <tr>\n",
       "      <th>max</th>\n",
       "      <td>1.000000</td>\n",
       "      <td>1.000000</td>\n",
       "      <td>1.000000</td>\n",
       "      <td>1.000000</td>\n",
       "      <td>1.000000</td>\n",
       "      <td>1.000000</td>\n",
       "      <td>1.000000</td>\n",
       "    </tr>\n",
       "  </tbody>\n",
       "</table>\n",
       "</div>"
      ],
      "text/plain": [
       "       industrial_risk  management_risk  financial_flexibility  credibility  \\\n",
       "count       250.000000       250.000000             250.000000   250.000000   \n",
       "mean          0.518000         0.614000               0.376000     0.470000   \n",
       "std           0.411526         0.410705               0.401583     0.415682   \n",
       "min           0.000000         0.000000               0.000000     0.000000   \n",
       "25%           0.000000         0.500000               0.000000     0.000000   \n",
       "50%           0.500000         0.500000               0.500000     0.500000   \n",
       "75%           1.000000         1.000000               0.500000     1.000000   \n",
       "max           1.000000         1.000000               1.000000     1.000000   \n",
       "\n",
       "       competitiveness  operating_risk       class  \n",
       "count       250.000000      250.000000  250.000000  \n",
       "mean          0.476000        0.570000    0.572000  \n",
       "std           0.440682        0.434575    0.495781  \n",
       "min           0.000000        0.000000    0.000000  \n",
       "25%           0.000000        0.000000    0.000000  \n",
       "50%           0.500000        0.500000    1.000000  \n",
       "75%           1.000000        1.000000    1.000000  \n",
       "max           1.000000        1.000000    1.000000  "
      ]
     },
     "execution_count": 14,
     "metadata": {},
     "output_type": "execute_result"
    }
   ],
   "source": [
    "df.describe()"
   ]
  },
  {
   "cell_type": "markdown",
   "metadata": {},
   "source": [
    "Our data is perfectly scaled between 0 and 1. SO we can skip feature scaling in data preprocessing.\n"
   ]
  },
  {
   "cell_type": "markdown",
   "metadata": {},
   "source": [
    "Label encoding -"
   ]
  },
  {
   "cell_type": "code",
   "execution_count": 15,
   "metadata": {},
   "outputs": [],
   "source": [
    "from sklearn.preprocessing import LabelEncoder\n",
    "le = LabelEncoder()"
   ]
  },
  {
   "cell_type": "code",
   "execution_count": 16,
   "metadata": {},
   "outputs": [],
   "source": [
    "df['class'] = le.fit_transform(df['class'])"
   ]
  },
  {
   "cell_type": "code",
   "execution_count": 17,
   "metadata": {},
   "outputs": [
    {
     "data": {
      "text/plain": [
       "0      0\n",
       "1      0\n",
       "2      0\n",
       "3      0\n",
       "4      0\n",
       "      ..\n",
       "245    1\n",
       "246    1\n",
       "247    1\n",
       "248    1\n",
       "249    1\n",
       "Name: class, Length: 250, dtype: int64"
      ]
     },
     "execution_count": 17,
     "metadata": {},
     "output_type": "execute_result"
    }
   ],
   "source": [
    "df['class']"
   ]
  },
  {
   "cell_type": "markdown",
   "metadata": {},
   "source": [
    " Collinearity"
   ]
  },
  {
   "cell_type": "code",
   "execution_count": 18,
   "metadata": {},
   "outputs": [
    {
     "name": "stdout",
     "output_type": "stream",
     "text": [
      "                       industrial_risk  management_risk  \\\n",
      "industrial_risk               1.000000         0.255127   \n",
      "management_risk               0.255127         1.000000   \n",
      "financial_flexibility        -0.162624        -0.254845   \n",
      "credibility                  -0.014438        -0.303341   \n",
      "competitiveness              -0.257814        -0.306568   \n",
      "operating_risk                0.144507         0.213874   \n",
      "class                        -0.227823        -0.370838   \n",
      "\n",
      "                       financial_flexibility  credibility  competitiveness  \\\n",
      "industrial_risk                    -0.162624    -0.014438        -0.257814   \n",
      "management_risk                    -0.254845    -0.303341        -0.306568   \n",
      "financial_flexibility               1.000000     0.524951         0.686612   \n",
      "credibility                         0.524951     1.000000         0.675689   \n",
      "competitiveness                     0.686612     0.675689         1.000000   \n",
      "operating_risk                     -0.116903    -0.288458        -0.211383   \n",
      "class                               0.751020     0.755909         0.899452   \n",
      "\n",
      "                       operating_risk     class  \n",
      "industrial_risk              0.144507 -0.227823  \n",
      "management_risk              0.213874 -0.370838  \n",
      "financial_flexibility       -0.116903  0.751020  \n",
      "credibility                 -0.288458  0.755909  \n",
      "competitiveness             -0.211383  0.899452  \n",
      "operating_risk               1.000000 -0.279786  \n",
      "class                       -0.279786  1.000000  \n"
     ]
    }
   ],
   "source": [
    "correlation_matrix = df.corr()\n",
    "print(correlation_matrix)"
   ]
  },
  {
   "cell_type": "code",
   "execution_count": 19,
   "metadata": {},
   "outputs": [],
   "source": [
    "import matplotlib.pyplot as plt\n",
    "import seaborn as sns"
   ]
  },
  {
   "cell_type": "code",
   "execution_count": 20,
   "metadata": {},
   "outputs": [
    {
     "data": {
      "text/plain": [
       "Text(0.5, 1.0, 'Correlation Matrix')"
      ]
     },
     "execution_count": 20,
     "metadata": {},
     "output_type": "execute_result"
    },
    {
     "data": {
      "image/png": "[encoded data removed]",
      "text/plain": [
       "<Figure size 1000x800 with 2 Axes>"
      ]
     },
     "metadata": {},
     "output_type": "display_data"
    }
   ],
   "source": [
    "plt.figure(figsize=(10, 8))\n",
    "sns.heatmap(correlation_matrix, annot=True, cmap = \"coolwarm\", fmt=\".2f\")\n",
    "plt.title(\"Correlation Matrix\")"
   ]
  },
  {
   "cell_type": "markdown",
   "metadata": {},
   "source": [
    "We see that competitiveness has moderate to high collinearity with financial_flexibility and credibility.\n",
    "\n",
    "But since it also has very high correlation with our Y variable i.e. Class, removing it will cause very much loss of error. \n",
    "\n",
    "So we will use PCA to determine the number of components that capture most of the variance."
   ]
  },
  {
   "cell_type": "code",
   "execution_count": 21,
   "metadata": {},
   "outputs": [],
   "source": [
    "from sklearn.preprocessing import StandardScaler\n",
    "from sklearn.decomposition import PCA"
   ]
  },
  {
   "cell_type": "code",
   "execution_count": 22,
   "metadata": {},
   "outputs": [
    {
     "data": {
      "text/plain": [
       "array([[-0.04382742,  0.94173236, -0.93817234, -1.13294134, -1.08231025,\n",
       "        -0.16140004],\n",
       "       [-1.26125562,  0.94173236, -0.93817234, -1.13294134, -1.08231025,\n",
       "         0.9914574 ],\n",
       "       [ 1.17360079, -1.49798878, -0.93817234, -1.13294134, -1.08231025,\n",
       "         0.9914574 ],\n",
       "       ...,\n",
       "       [-1.26125562,  0.94173236,  1.55696687,  0.0723154 ,  0.05457026,\n",
       "        -1.31425748],\n",
       "       [ 1.17360079, -1.49798878,  0.30939726,  1.27757215,  0.05457026,\n",
       "        -1.31425748],\n",
       "       [ 1.17360079, -1.49798878,  0.30939726,  0.0723154 ,  1.19145078,\n",
       "         0.9914574 ]])"
      ]
     },
     "execution_count": 22,
     "metadata": {},
     "output_type": "execute_result"
    }
   ],
   "source": [
    "scaler = StandardScaler()\n",
    "X_scaled = scaler.fit_transform(df.drop('class', axis=1))\n",
    "X_scaled"
   ]
  },
  {
   "cell_type": "code",
   "execution_count": 23,
   "metadata": {},
   "outputs": [
    {
     "data": {
      "text/plain": [
       "array([[-1.86886516, -0.50173334, -0.27521769,  0.64063811,  0.13805036,\n",
       "        -0.01834052],\n",
       "       [-1.90332685, -0.95233568,  1.21647726,  0.72703785, -0.39460248,\n",
       "        -0.31941166],\n",
       "       [-1.6010433 , -0.24731439,  0.02485947, -2.2529689 ,  0.38050704,\n",
       "         0.30600549],\n",
       "       ...,\n",
       "       [ 1.10904128, -0.50267445, -0.03305633,  1.89721324,  0.97181269,\n",
       "        -0.78081155],\n",
       "       [ 1.40364893,  0.23341091, -1.80900566, -1.29309347,  0.13433502,\n",
       "        -0.30352593],\n",
       "       [ 0.83147877,  0.87782738,  0.47083997, -1.81651016,  0.16762173,\n",
       "         1.05516528]])"
      ]
     },
     "execution_count": 23,
     "metadata": {},
     "output_type": "execute_result"
    }
   ],
   "source": [
    "pca = PCA()\n",
    "X_pca = pca.fit_transform(X_scaled)\n",
    "X_pca"
   ]
  },
  {
   "cell_type": "code",
   "execution_count": 44,
   "metadata": {},
   "outputs": [
    {
     "name": "stdout",
     "output_type": "stream",
     "text": [
      "[0.43680511 0.18123815 0.15257194]\n",
      "[0.43680511 0.61804326 0.77061519]\n"
     ]
    }
   ],
   "source": [
    "explained_variance = pca.explained_variance_ratio_\n",
    "print(explained_variance)\n",
    "cumulative_variance = explained_variance.cumsum()\n",
    "print(cumulative_variance)\n",
    "\n",
    "# \"This code calculates and prints the explained variance ratio of each principal component and the cumulative explained variance. \n",
    "# This helps in determining the number of principal components needed to capture a significant portion of the total variance in the data.\""
   ]
  },
  {
   "cell_type": "code",
   "execution_count": null,
   "metadata": {},
   "outputs": [
    {
     "data": {
      "image/png": "[encoded data removed]",
      "text/plain": [
       "<Figure size 640x480 with 1 Axes>"
      ]
     },
     "metadata": {},
     "output_type": "display_data"
    }
   ],
   "source": [
    "#to check how many columns we need (components)\n",
    "\n",
    "plt.plot(cumulative_variance)\n",
    "plt.xlabel('NUmber of Components')\n",
    "plt.ylabel('Cumulative Explained Variance')\n",
    "plt.title('Cumulative Explained Variance vs. Number of Components')\n",
    "plt.grid()\n",
    "plt.show()"
   ]
  },
  {
   "cell_type": "code",
   "execution_count": 26,
   "metadata": {},
   "outputs": [],
   "source": [
    "n_components = 3 #we use 3 columns now"
   ]
  },
  {
   "cell_type": "code",
   "execution_count": 27,
   "metadata": {},
   "outputs": [],
   "source": [
    "pca = PCA(n_components=n_components)\n",
    "X_pca = pca.fit_transform(X_scaled)"
   ]
  },
  {
   "cell_type": "code",
   "execution_count": 28,
   "metadata": {},
   "outputs": [],
   "source": [
    "#convert the array into a dataframe\n",
    "\n",
    "pca_df = pd.DataFrame(X_pca, columns=[f'PC{i+1}' for i in range(n_components)]) "
   ]
  },
  {
   "cell_type": "code",
   "execution_count": 29,
   "metadata": {},
   "outputs": [],
   "source": [
    "df_pca = pd.concat([pca_df, df['class']], axis=1) \n"
   ]
  },
  {
   "cell_type": "code",
   "execution_count": 30,
   "metadata": {},
   "outputs": [
    {
     "data": {
      "text/html": [
       "<div>\n",
       "<style scoped>\n",
       "    .dataframe tbody tr th:only-of-type {\n",
       "        vertical-align: middle;\n",
       "    }\n",
       "\n",
       "    .dataframe tbody tr th {\n",
       "        vertical-align: top;\n",
       "    }\n",
       "\n",
       "    .dataframe thead th {\n",
       "        text-align: right;\n",
       "    }\n",
       "</style>\n",
       "<table border=\"1\" class=\"dataframe\">\n",
       "  <thead>\n",
       "    <tr style=\"text-align: right;\">\n",
       "      <th></th>\n",
       "      <th>PC1</th>\n",
       "      <th>PC2</th>\n",
       "      <th>PC3</th>\n",
       "      <th>class</th>\n",
       "    </tr>\n",
       "  </thead>\n",
       "  <tbody>\n",
       "    <tr>\n",
       "      <th>0</th>\n",
       "      <td>-1.868865</td>\n",
       "      <td>-0.501733</td>\n",
       "      <td>-0.275218</td>\n",
       "      <td>0</td>\n",
       "    </tr>\n",
       "    <tr>\n",
       "      <th>1</th>\n",
       "      <td>-1.903327</td>\n",
       "      <td>-0.952336</td>\n",
       "      <td>1.216477</td>\n",
       "      <td>0</td>\n",
       "    </tr>\n",
       "    <tr>\n",
       "      <th>2</th>\n",
       "      <td>-1.601043</td>\n",
       "      <td>-0.247314</td>\n",
       "      <td>0.024859</td>\n",
       "      <td>0</td>\n",
       "    </tr>\n",
       "    <tr>\n",
       "      <th>3</th>\n",
       "      <td>-0.743208</td>\n",
       "      <td>-0.731074</td>\n",
       "      <td>0.342044</td>\n",
       "      <td>0</td>\n",
       "    </tr>\n",
       "    <tr>\n",
       "      <th>4</th>\n",
       "      <td>-2.428168</td>\n",
       "      <td>0.765267</td>\n",
       "      <td>0.078508</td>\n",
       "      <td>0</td>\n",
       "    </tr>\n",
       "    <tr>\n",
       "      <th>...</th>\n",
       "      <td>...</td>\n",
       "      <td>...</td>\n",
       "      <td>...</td>\n",
       "      <td>...</td>\n",
       "    </tr>\n",
       "    <tr>\n",
       "      <th>245</th>\n",
       "      <td>1.727700</td>\n",
       "      <td>0.891827</td>\n",
       "      <td>1.743189</td>\n",
       "      <td>1</td>\n",
       "    </tr>\n",
       "    <tr>\n",
       "      <th>246</th>\n",
       "      <td>1.193533</td>\n",
       "      <td>1.449053</td>\n",
       "      <td>-1.572732</td>\n",
       "      <td>1</td>\n",
       "    </tr>\n",
       "    <tr>\n",
       "      <th>247</th>\n",
       "      <td>1.109041</td>\n",
       "      <td>-0.502674</td>\n",
       "      <td>-0.033056</td>\n",
       "      <td>1</td>\n",
       "    </tr>\n",
       "    <tr>\n",
       "      <th>248</th>\n",
       "      <td>1.403649</td>\n",
       "      <td>0.233411</td>\n",
       "      <td>-1.809006</td>\n",
       "      <td>1</td>\n",
       "    </tr>\n",
       "    <tr>\n",
       "      <th>249</th>\n",
       "      <td>0.831479</td>\n",
       "      <td>0.877827</td>\n",
       "      <td>0.470840</td>\n",
       "      <td>1</td>\n",
       "    </tr>\n",
       "  </tbody>\n",
       "</table>\n",
       "<p>250 rows × 4 columns</p>\n",
       "</div>"
      ],
      "text/plain": [
       "          PC1       PC2       PC3  class\n",
       "0   -1.868865 -0.501733 -0.275218      0\n",
       "1   -1.903327 -0.952336  1.216477      0\n",
       "2   -1.601043 -0.247314  0.024859      0\n",
       "3   -0.743208 -0.731074  0.342044      0\n",
       "4   -2.428168  0.765267  0.078508      0\n",
       "..        ...       ...       ...    ...\n",
       "245  1.727700  0.891827  1.743189      1\n",
       "246  1.193533  1.449053 -1.572732      1\n",
       "247  1.109041 -0.502674 -0.033056      1\n",
       "248  1.403649  0.233411 -1.809006      1\n",
       "249  0.831479  0.877827  0.470840      1\n",
       "\n",
       "[250 rows x 4 columns]"
      ]
     },
     "execution_count": 30,
     "metadata": {},
     "output_type": "execute_result"
    }
   ],
   "source": [
    "df_pca"
   ]
  },
  {
   "cell_type": "code",
   "execution_count": 31,
   "metadata": {},
   "outputs": [
    {
     "data": {
      "text/plain": [
       "Text(0.5, 1.0, 'Correlation after PCA')"
      ]
     },
     "execution_count": 31,
     "metadata": {},
     "output_type": "execute_result"
    },
    {
     "data": {
      "image/png": "[encoded data removed]",
      "text/plain": [
       "<Figure size 640x480 with 2 Axes>"
      ]
     },
     "metadata": {},
     "output_type": "display_data"
    }
   ],
   "source": [
    "df_pca_corr = df_pca.corr()\n",
    "sns.heatmap(df_pca_corr,annot=True, cmap = \"coolwarm\", fmt=\".2f\")\n",
    "plt.title(\"Correlation after PCA\")"
   ]
  },
  {
   "cell_type": "markdown",
   "metadata": {},
   "source": [
    "## Model Building "
   ]
  },
  {
   "cell_type": "code",
   "execution_count": 32,
   "metadata": {},
   "outputs": [],
   "source": [
    "X_pca = df_pca.drop('class', axis=1)\n",
    "y = df_pca['class']"
   ]
  },
  {
   "cell_type": "code",
   "execution_count": 33,
   "metadata": {},
   "outputs": [],
   "source": [
    "from sklearn.model_selection import train_test_split"
   ]
  },
  {
   "cell_type": "code",
   "execution_count": 34,
   "metadata": {},
   "outputs": [],
   "source": [
    "X_train, X_test, y_train, y_test = train_test_split(X_pca, y, test_size=0.2, stratify=y, random_state=42) #stratify ensures proportion of both classes"
   ]
  },
  {
   "cell_type": "markdown",
   "metadata": {},
   "source": [
    "### Model 1: Logistic Regression"
   ]
  },
  {
   "cell_type": "code",
   "execution_count": 35,
   "metadata": {},
   "outputs": [],
   "source": [
    "from sklearn.linear_model import LogisticRegression\n",
    "from sklearn.metrics import classification_report, confusion_matrix, roc_auc_score, roc_curve"
   ]
  },
  {
   "cell_type": "code",
   "execution_count": null,
   "metadata": {},
   "outputs": [
    {
     "name": "stdout",
     "output_type": "stream",
     "text": [
      "\n",
      "--- Logistic Regression ---\n",
      "              precision    recall  f1-score   support\n",
      "\n",
      "           0       1.00      1.00      1.00        21\n",
      "           1       1.00      1.00      1.00        29\n",
      "\n",
      "    accuracy                           1.00        50\n",
      "   macro avg       1.00      1.00      1.00        50\n",
      "weighted avg       1.00      1.00      1.00        50\n",
      "\n",
      "[[21  0]\n",
      " [ 0 29]]\n",
      "ROC AUC: 1.0\n"
     ]
    }
   ],
   "source": [
    "from sklearn.linear_model import LogisticRegression\n",
    "\n",
    "print(\"\\n--- Logistic Regression ---\")\n",
    "model_lr = LogisticRegression()\n",
    "model_lr.fit(X_train, y_train)\n",
    "y_pred_lr = model_lr.predict(X_test)\n",
    "y_prob_lr = model_lr.predict_proba(X_test)[:, 1]\n",
    "fpr_lr, tpr_lr, _ = roc_curve(y_test, y_prob_lr)\n",
    "\n",
    "print(classification_report(y_test, y_pred_lr))\n",
    "print(confusion_matrix(y_test, y_pred_lr))\n",
    "print(f\"ROC AUC: {roc_auc_score(y_test, y_prob_lr)}\") #receiving operating char and area under curve"
   ]
  },
  {
   "cell_type": "markdown",
   "metadata": {},
   "source": [
    "### 2. Decision Tree"
   ]
  },
  {
   "cell_type": "code",
   "execution_count": 37,
   "metadata": {},
   "outputs": [],
   "source": [
    "from sklearn.tree import DecisionTreeClassifier"
   ]
  },
  {
   "cell_type": "code",
   "execution_count": 38,
   "metadata": {},
   "outputs": [
    {
     "name": "stdout",
     "output_type": "stream",
     "text": [
      "              precision    recall  f1-score   support\n",
      "\n",
      "           0       1.00      1.00      1.00        21\n",
      "           1       1.00      1.00      1.00        29\n",
      "\n",
      "    accuracy                           1.00        50\n",
      "   macro avg       1.00      1.00      1.00        50\n",
      "weighted avg       1.00      1.00      1.00        50\n",
      "\n",
      "[[21  0]\n",
      " [ 0 29]]\n",
      "ROC AUC: 1.0\n"
     ]
    }
   ],
   "source": [
    "model_dt = DecisionTreeClassifier()\n",
    "model_dt.fit(X_train, y_train)\n",
    "y_pred_dt = model_dt.predict(X_test)\n",
    "y_prob_dt = model_dt.predict_proba(X_test)[:, 1]\n",
    "fpr_dt, tpr_dt, _ = roc_curve(y_test, y_prob_dt) \n",
    "\n",
    "print(classification_report(y_test, y_pred_dt))\n",
    "print(confusion_matrix(y_test, y_pred_dt))\n",
    "print(f\"ROC AUC: {roc_auc_score(y_test, y_prob_dt)}\")\n"
   ]
  },
  {
   "cell_type": "markdown",
   "metadata": {},
   "source": [
    "### 3. Random Forest"
   ]
  },
  {
   "cell_type": "code",
   "execution_count": 39,
   "metadata": {},
   "outputs": [],
   "source": [
    "from sklearn.ensemble import RandomForestClassifier"
   ]
  },
  {
   "cell_type": "code",
   "execution_count": 40,
   "metadata": {},
   "outputs": [
    {
     "name": "stdout",
     "output_type": "stream",
     "text": [
      "\n",
      "--- Random Forest ---\n",
      "              precision    recall  f1-score   support\n",
      "\n",
      "           0       1.00      1.00      1.00        21\n",
      "           1       1.00      1.00      1.00        29\n",
      "\n",
      "    accuracy                           1.00        50\n",
      "   macro avg       1.00      1.00      1.00        50\n",
      "weighted avg       1.00      1.00      1.00        50\n",
      "\n",
      "[[21  0]\n",
      " [ 0 29]]\n",
      "ROC AUC: 1.0\n"
     ]
    }
   ],
   "source": [
    "print(\"\\n--- Random Forest ---\")\n",
    "model_rf = RandomForestClassifier()\n",
    "model_rf.fit(X_train, y_train)\n",
    "y_pred_rf = model_rf.predict(X_test)\n",
    "y_prob_rf = model_rf.predict_proba(X_test)[:, 1]\n",
    "fpr_rf, tpr_rf, _ = roc_curve(y_test, y_prob_rf) \n",
    "\n",
    "print(classification_report(y_test, y_pred_rf))\n",
    "print(confusion_matrix(y_test, y_pred_rf))\n",
    "print(f\"ROC AUC: {roc_auc_score(y_test, y_prob_rf)}\")"
   ]
  },
  {
   "cell_type": "code",
   "execution_count": 41,
   "metadata": {},
   "outputs": [
    {
     "data": {
      "image/png": "[encoded data removed]",
      "text/plain": [
       "<Figure size 800x600 with 1 Axes>"
      ]
     },
     "metadata": {},
     "output_type": "display_data"
    }
   ],
   "source": [
    "plt.figure(figsize=(8, 6))\n",
    "plt.plot(fpr_lr, tpr_lr, label=f\"Logistic Regression (AUC = {roc_auc_score(y_test, y_prob_lr):.2f})\")\n",
    "plt.plot(fpr_dt, tpr_dt, label=f\"Decision Tree (AUC = {roc_auc_score(y_test, y_prob_dt):.2f})\")\n",
    "plt.plot(fpr_rf, tpr_rf, label=f\"Random Forest (AUC = {roc_auc_score(y_test, y_prob_rf):.2f})\")\n",
    "plt.plot([0, 1], [0, 1], 'k--', label='Base Rate')\n",
    "plt.xlabel('False Positive Rate')\n",
    "plt.ylabel('True Positive Rate')\n",
    "plt.title('ROC Curves for Different Models')\n",
    "plt.legend()\n",
    "plt.grid(True)\n",
    "plt.show()"
   ]
  },
  {
   "cell_type": "code",
   "execution_count": 42,
   "metadata": {},
   "outputs": [],
   "source": [
    "import pickle"
   ]
  },
  {
   "cell_type": "code",
   "execution_count": 43,
   "metadata": {},
   "outputs": [],
   "source": [
    "model_lr = LogisticRegression().fit(X_train, y_train)\n",
    "model_dt = DecisionTreeClassifier().fit(X_train, y_train)\n",
    "model_rf = RandomForestClassifier().fit(X_train, y_train)\n",
    "\n",
    "# Save the models to pickle files\n",
    "with open('logistic_regression_model.pkl', 'wb') as file:\n",
    "    pickle.dump(model_lr, file)\n",
    "\n",
    "with open('decision_tree_model.pkl', 'wb') as file:\n",
    "    pickle.dump(model_dt, file)\n",
    "\n",
    "with open('random_forest_model.pkl', 'wb') as file:\n",
    "    pickle.dump(model_rf, file)\n",
    "\n",
    "# Save the scaler\n",
    "with open('scaler.pkl', 'wb') as file:\n",
    "    pickle.dump(scaler, file)\n",
    "\n",
    "# Save the PCA object\n",
    "with open('pca.pkl', 'wb') as file:\n",
    "    pickle.dump(pca, file) "
   ]
  }
 ],
 "metadata": {
  "kernelspec": {
   "display_name": "Python 3",
   "language": "python",
   "name": "python3"
  },
  "language_info": {
   "codemirror_mode": {
    "name": "ipython",
    "version": 3
   },
   "file_extension": ".py",
   "mimetype": "text/x-python",
   "name": "python",
   "nbconvert_exporter": "python",
   "pygments_lexer": "ipython3",
   "version": "3.11.0"
  }
 },
 "nbformat": 4,
 "nbformat_minor": 2
}
